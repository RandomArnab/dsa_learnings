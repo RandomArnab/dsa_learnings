{
 "cells": [
  {
   "cell_type": "markdown",
   "metadata": {},
   "source": [
    "If the list is not sorted , we got to scan through the entire list.\n",
    "\n",
    "Search for a value in a sorted list -->> Binary Search (Log N)."
   ]
  },
  {
   "cell_type": "code",
   "execution_count": 1,
   "metadata": {},
   "outputs": [],
   "source": [
    "def binary_search(val,ls):\n",
    "    if ls == []:\n",
    "        return False\n",
    "    m = len(ls)//2\n",
    "    if val ==ls[m]:\n",
    "        return True\n",
    "    if val < ls[m]:\n",
    "        return binary_search(val, ls[:m])\n",
    "    else:\n",
    "        return binary_search(val, l[m+1:])"
   ]
  }
 ],
 "metadata": {
  "kernelspec": {
   "display_name": "Python 3",
   "language": "python",
   "name": "python3"
  },
  "language_info": {
   "codemirror_mode": {
    "name": "ipython",
    "version": 3
   },
   "file_extension": ".py",
   "mimetype": "text/x-python",
   "name": "python",
   "nbconvert_exporter": "python",
   "pygments_lexer": "ipython3",
   "version": "3.12.6"
  }
 },
 "nbformat": 4,
 "nbformat_minor": 2
}
