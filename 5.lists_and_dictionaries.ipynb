{
 "cells": [
  {
   "cell_type": "markdown",
   "metadata": {},
   "source": [
    "Two basic ways of storing a sequence : Lists and Arrays.\n",
    "\n",
    "Lists are sequences of flexible lengths, easy to modify it and the values in it are scattered in memory.\n",
    "\n",
    "Arrays meanwhile are of fixed size and allocates a contiguous block of memory. It supports random access."
   ]
  },
  {
   "cell_type": "markdown",
   "metadata": {},
   "source": [
    "Lists are typically a sequence of nodes. Each node contains a value and points to the next node in sequence."
   ]
  },
  {
   "cell_type": "code",
   "execution_count": null,
   "metadata": {},
   "outputs": [],
   "source": [
    "class Node:\n",
    "\n",
    "    def __init__(self, v=None):\n",
    "        self.value = v\n",
    "        self.next = None \n",
    "        return\n",
    "    \n",
    "    def isempty(self):\n",
    "        if self.value == None:\n",
    "            return True\n",
    "        else:\n",
    "            return False\n",
    "        \n",
    "    def append(self,v):\n",
    "        if self.isempty():\n",
    "            self.value = v\n",
    "        elif self.next == None:\n",
    "            self.next = Node(v)\n",
    "        else:\n",
    "            self.next.append(v)\n",
    "        return"
   ]
  },
  {
   "cell_type": "markdown",
   "metadata": {},
   "source": [
    "A dictionary allows access through arbitrary keys, it is a collection of key-value pairs."
   ]
  }
 ],
 "metadata": {
  "language_info": {
   "name": "python"
  }
 },
 "nbformat": 4,
 "nbformat_minor": 2
}
