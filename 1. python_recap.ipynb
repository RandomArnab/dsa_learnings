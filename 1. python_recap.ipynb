{
 "cells": [
  {
   "cell_type": "markdown",
   "metadata": {},
   "source": [
    "Computing primes from 1 to 100"
   ]
  },
  {
   "cell_type": "code",
   "execution_count": 5,
   "metadata": {},
   "outputs": [
    {
     "name": "stdout",
     "output_type": "stream",
     "text": [
      "False\n"
     ]
    }
   ],
   "source": [
    "def factors(n):\n",
    "  factor_list = []\n",
    "  for i in range(1,n+1):\n",
    "    if n%i == 0:\n",
    "      factor_list.append(i)\n",
    "  return factor_list\n",
    "\n",
    "def prime(n):\n",
    "  return len(factors(n)) == 2\n",
    "\n",
    "print(prime(8))"
   ]
  },
  {
   "cell_type": "markdown",
   "metadata": {},
   "source": [
    "Computing GCD"
   ]
  },
  {
   "cell_type": "code",
   "execution_count": 6,
   "metadata": {},
   "outputs": [
    {
     "name": "stdout",
     "output_type": "stream",
     "text": [
      "16\n"
     ]
    }
   ],
   "source": [
    "def gcd(m,n):\n",
    "  cf = []\n",
    "  for i in range(1, min(m,n)+1):\n",
    "    if ((m%i)==0) & ((n%i)==0):\n",
    "      cf.append(i)\n",
    "  return cf[-1]\n",
    "\n",
    "print(gcd(16,32))"
   ]
  },
  {
   "cell_type": "markdown",
   "metadata": {},
   "source": [
    "Euclidean Algorithm: This is the most popular and efficient method for finding the GCD of two numbers. The algorithm works by repeatedly subtracting the smaller number from the larger number until both numbers are equal. At this point, the GCD is the common value. The algorithm can also be implemented using the modulo operation, which makes it even faster."
   ]
  },
  {
   "cell_type": "code",
   "execution_count": 15,
   "metadata": {},
   "outputs": [
    {
     "name": "stdout",
     "output_type": "stream",
     "text": [
      "16\n"
     ]
    }
   ],
   "source": [
    "def gcd(m,n):\n",
    "  a,b = max(m,n), min(m,n)\n",
    "  if a%b ==0:\n",
    "    return b\n",
    "  else:\n",
    "    return gcd(b, a-b)\n",
    "\n",
    "\n",
    "print(gcd(64,48))"
   ]
  },
  {
   "cell_type": "markdown",
   "metadata": {},
   "source": [
    "First M primes"
   ]
  },
  {
   "cell_type": "code",
   "execution_count": 9,
   "metadata": {},
   "outputs": [
    {
     "name": "stdout",
     "output_type": "stream",
     "text": [
      "[2, 3, 5, 7, 11, 13, 17, 19, 23, 29]\n"
     ]
    }
   ],
   "source": [
    "def first_primes(m):\n",
    "  count,i,pl = 0,1,[]\n",
    "  while count < m:\n",
    "    if prime(i):\n",
    "      count += 1\n",
    "      pl.append(i)\n",
    "    i += 1\n",
    "  return pl\n",
    "\n",
    "print(first_primes(10))"
   ]
  },
  {
   "cell_type": "markdown",
   "metadata": {},
   "source": [
    "Differences between twin primes."
   ]
  },
  {
   "cell_type": "code",
   "execution_count": 13,
   "metadata": {},
   "outputs": [
    {
     "name": "stdout",
     "output_type": "stream",
     "text": [
      "{1: 1, 2: 8, 4: 7, 6: 6}\n"
     ]
    }
   ],
   "source": [
    "def prime_diffs(n):\n",
    "  last_prime = 2\n",
    "  pd = {}  #dictionary for prime differences.\n",
    "  for i in range(3,n+1):\n",
    "    if prime(i):\n",
    "      d = i - last_prime\n",
    "      last_prime = i\n",
    "      if d in pd.keys():\n",
    "        pd[d] = pd[d] + 1\n",
    "      else:\n",
    "        pd[d] = 1\n",
    "  return pd \n",
    "\n",
    "print(prime_diffs(83))"
   ]
  }
 ],
 "metadata": {
  "kernelspec": {
   "display_name": "Python 3",
   "language": "python",
   "name": "python3"
  },
  "language_info": {
   "codemirror_mode": {
    "name": "ipython",
    "version": 3
   },
   "file_extension": ".py",
   "mimetype": "text/x-python",
   "name": "python",
   "nbconvert_exporter": "python",
   "pygments_lexer": "ipython3",
   "version": "3.12.6"
  }
 },
 "nbformat": 4,
 "nbformat_minor": 2
}
