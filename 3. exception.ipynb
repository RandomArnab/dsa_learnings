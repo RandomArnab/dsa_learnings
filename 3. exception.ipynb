{
 "cells": [
  {
   "cell_type": "code",
   "execution_count": 8,
   "metadata": {},
   "outputs": [
    {
     "name": "stdout",
     "output_type": "stream",
     "text": [
      "Just checking out this time package.\n",
      "0.00024790000315988436\n"
     ]
    }
   ],
   "source": [
    "import time\n",
    "\n",
    "start_time = time.perf_counter()\n",
    "print('Just checking out this time package.')\n",
    "end_time = time.perf_counter()\n",
    "elapsed = end_time - start_time\n",
    "\n",
    "print(elapsed)"
   ]
  },
  {
   "cell_type": "markdown",
   "metadata": {},
   "source": [
    "Creating a timer class, which checks the runtime of a particular piece of code."
   ]
  },
  {
   "cell_type": "code",
   "execution_count": 17,
   "metadata": {},
   "outputs": [],
   "source": [
    "import time\n",
    " \n",
    "class TimeError(Exception):\n",
    "  \"\"\" A custom exception used to report errors in use of Timer class \"\"\"\n",
    "\n",
    "class Timer:\n",
    "  def __init__(self):\n",
    "    self.start_time = None\n",
    "    self.end_time = None\n",
    "\n",
    "  def start(self):\n",
    "    \"\"\" Start a new timer \"\"\"\n",
    "    if self.start_time is not None:\n",
    "      raise TimeError(\"Timer is running. Use .stop()\")\n",
    "    self.start_time = time.perf_counter()\n",
    "\n",
    "  def stop(self):\n",
    "    \"\"\" Save the elapsed time and re-initialize the timer.\"\"\"\n",
    "    if self.start_time is  None:\n",
    "      raise TimeError(\"Timer is not running. Use .start().\")\n",
    "    self.elapsed_time = time.perf_counter() - self.start_time\n",
    "    self.start_time = None\n",
    "\n",
    "  def elapsed(self):\n",
    "    \"\"\" Report elapsed time. \"\"\"\n",
    "    if self.elapsed_time is None:\n",
    "      raise TimeError(\"Timer has not been run yet. Use .start()\")\n",
    "    return self.elapsed_time\n",
    "  \n",
    "  def __str__(self):\n",
    "    return str(self.elapsed_time)"
   ]
  },
  {
   "cell_type": "code",
   "execution_count": 18,
   "metadata": {},
   "outputs": [
    {
     "name": "stdout",
     "output_type": "stream",
     "text": [
      "4 0.0007031999994069338\n",
      "5 0.007039499992970377\n",
      "6 0.07288449999759905\n",
      "7 0.7127209000027506\n",
      "8 7.2707864999974845\n"
     ]
    }
   ],
   "source": [
    "t = Timer()\n",
    "\n",
    "for j in range(4,9):\n",
    "  t.start()\n",
    "  n = 0\n",
    "  for i in range(10 ** j):\n",
    "    n += i\n",
    "  t.stop()\n",
    "  print(j,t)"
   ]
  }
 ],
 "metadata": {
  "kernelspec": {
   "display_name": "Python 3",
   "language": "python",
   "name": "python3"
  },
  "language_info": {
   "codemirror_mode": {
    "name": "ipython",
    "version": 3
   },
   "file_extension": ".py",
   "mimetype": "text/x-python",
   "name": "python",
   "nbconvert_exporter": "python",
   "pygments_lexer": "ipython3",
   "version": "3.12.6"
  }
 },
 "nbformat": 4,
 "nbformat_minor": 2
}
