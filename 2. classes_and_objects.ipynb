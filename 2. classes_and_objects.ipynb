{
 "cells": [
  {
   "cell_type": "markdown",
   "metadata": {},
   "source": [
    "Abstract datatype:\n",
    "\n",
    "Stores information.\n",
    "\n",
    "Separates private implementation from public specification.\n",
    "\n",
    "Designated functions to manipulate the information.\n",
    "\n",
    "\n",
    " example: stack [ last in, first out, push, pop]"
   ]
  },
  {
   "cell_type": "markdown",
   "metadata": {},
   "source": [
    "EXAMPLE : 2D Points"
   ]
  },
  {
   "cell_type": "markdown",
   "metadata": {},
   "source": [
    "__init__() constructor initializes internal values x,y.\n",
    "\n",
    "First parameter is always self.\n",
    "\n",
    "Here, a default point is at (0,0).\n",
    "\n",
    "Translation : shifting a point by some scale.\n",
    "\n",
    "Odistance : distance from origin (0,0)."
   ]
  },
  {
   "cell_type": "code",
   "execution_count": 2,
   "metadata": {},
   "outputs": [],
   "source": [
    "class Point:\n",
    "\n",
    "  def __init__(self, a=0,b=0):\n",
    "    self.x = a\n",
    "    self.y = b\n",
    "\n",
    "  def translate(self, delx, dely):\n",
    "    self.x += delx\n",
    "    self.y += dely  \n",
    "\n",
    "  def odistance(self):\n",
    "    import math\n",
    "    dist = math.sqrt(self.x*self.x + self.y*self.y)\n",
    "    return dist"
   ]
  },
  {
   "cell_type": "markdown",
   "metadata": {},
   "source": [
    "__init()__ -->> constructor.\n",
    "\n",
    "__str()__ -->> converts object to string (implicitly used by print()).\n",
    "\n",
    "__add()__ -->> implicitly invoked by +.\n",
    "\n",
    "__mult__(), __lt__(), __ge__() other examples.\n"
   ]
  },
  {
   "cell_type": "code",
   "execution_count": 4,
   "metadata": {},
   "outputs": [
    {
     "name": "stdout",
     "output_type": "stream",
     "text": [
      "5.0 12.206555615733702\n"
     ]
    }
   ],
   "source": [
    "p = Point(3,4)\n",
    "q = Point(7,10)\n",
    "\n",
    "print(p.odistance(), q.odistance())"
   ]
  },
  {
   "cell_type": "markdown",
   "metadata": {},
   "source": [
    "Defining points in form of polar coordinates."
   ]
  },
  {
   "cell_type": "code",
   "execution_count": 12,
   "metadata": {},
   "outputs": [],
   "source": [
    "class Point:\n",
    "  def __init__(self, a=0, b=0):\n",
    "    import math\n",
    "    self.r = math.sqrt(a*a + b*b)\n",
    "    if a == 0:\n",
    "      self.theta = 0\n",
    "    else:\n",
    "      self.theta = math.atan(b/a)\n",
    "  \n",
    "  def odistance(self):\n",
    "    return self.r\n",
    "  \n",
    "  def translate(self, delx, dely):\n",
    "    import math\n",
    "    x = self.r*math.cos(self.theta)\n",
    "    y = self.r*math.sin(self.theta)\n",
    "    x += delx\n",
    "    y += dely\n",
    "    self.r = math.sqrt(x*x + y*y)\n",
    "    if x == 0:\n",
    "      theta = 0\n",
    "    else:\n",
    "      theta = math.atan(y/x)"
   ]
  },
  {
   "cell_type": "code",
   "execution_count": 14,
   "metadata": {},
   "outputs": [
    {
     "name": "stdout",
     "output_type": "stream",
     "text": [
      "5.0 0.9272952180016122\n"
     ]
    }
   ],
   "source": [
    "p = Point(3,4)\n",
    "q = Point(7,10)\n",
    "\n",
    "print(p.r, p.theta)"
   ]
  }
 ],
 "metadata": {
  "kernelspec": {
   "display_name": "Python 3",
   "language": "python",
   "name": "python3"
  },
  "language_info": {
   "codemirror_mode": {
    "name": "ipython",
    "version": 3
   },
   "file_extension": ".py",
   "mimetype": "text/x-python",
   "name": "python",
   "nbconvert_exporter": "python",
   "pygments_lexer": "ipython3",
   "version": "3.12.6"
  }
 },
 "nbformat": 4,
 "nbformat_minor": 2
}
