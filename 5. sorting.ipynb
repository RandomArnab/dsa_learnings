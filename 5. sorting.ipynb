{
 "cells": [
  {
   "cell_type": "markdown",
   "metadata": {},
   "source": [
    "Selection Sort : \n",
    "\n",
    "The idea here is to find the smallest unsorted element and add it to the end of the sorted list.\n",
    "\n",
    "Repeat until no unsorted elements remain:\n",
    "\n",
    "Search through the unsorted part to find the smallest value.\n",
    "\n",
    "Swap the smallest found value with the first element of the unsorted part.\n",
    "\n",
    "\n",
    "Worst case complexity is O(n^2). Hence, there is no advantage even is list is arranged carefully before sorting."
   ]
  },
  {
   "cell_type": "code",
   "execution_count": 3,
   "metadata": {},
   "outputs": [
    {
     "name": "stdout",
     "output_type": "stream",
     "text": [
      "[2, 3, 4, 7, 8, 10]\n"
     ]
    }
   ],
   "source": [
    "def selection_sort(ls):\n",
    "    \n",
    "    n = len(ls)\n",
    "    if n < 1:\n",
    "        return ls\n",
    "    \n",
    "    for i in range(n):\n",
    "        mpos = i\n",
    "        for j in range(i+1,n):\n",
    "            if ls[j] < ls[mpos]:\n",
    "                mpos = j\n",
    "        ls[i], ls[mpos] = ls[mpos], ls[i]\n",
    "    return ls\n",
    "\n",
    "print(selection_sort([2,7,8,3,4,10]))"
   ]
  },
  {
   "cell_type": "markdown",
   "metadata": {},
   "source": [
    "Insertion Sort:\n",
    "\n",
    "We pick the next element and insert it into the sorted list.\n",
    "\n",
    "An iterative formulation -->> Assume L[:i] is sorted and insert L[i] in L[:i]\n",
    "\n"
   ]
  },
  {
   "cell_type": "code",
   "execution_count": 13,
   "metadata": {},
   "outputs": [
    {
     "name": "stdout",
     "output_type": "stream",
     "text": [
      "[2, 3, 4, 7, 8, 10]\n"
     ]
    }
   ],
   "source": [
    "def insertion_sort(ls):\n",
    "    \n",
    "    n = len(ls)\n",
    "    if n < 1:\n",
    "        return ls\n",
    "    \n",
    "    for i in range(n):\n",
    "        j=i\n",
    "        while j>0 and ls[j] < ls[j-1]:\n",
    "            ls[j], ls[j-1] = ls[j-1], ls[j]\n",
    "            j -= 1\n",
    "    return ls\n",
    "\n",
    "print(insertion_sort([2,7,8,3,4,10]))"
   ]
  },
  {
   "cell_type": "markdown",
   "metadata": {},
   "source": [
    "Merge Sort:\n",
    "\n",
    "Combining two sorted lists A and B into a single sorted list C.\n",
    "\n",
    "Compare first elements of A and B.\n",
    "\n",
    "Move the smaller of the two to C.\n",
    "\n",
    "Repeat till you exhaust A and B."
   ]
  },
  {
   "cell_type": "code",
   "execution_count": 23,
   "metadata": {},
   "outputs": [
    {
     "name": "stdout",
     "output_type": "stream",
     "text": [
      "[2, 3, 4, 7, 8, 10]\n"
     ]
    }
   ],
   "source": [
    "def merge(a,b):\n",
    "    m,n = len(a), len(b)\n",
    "    c,i,j,k = [],0,0,0\n",
    "    while k < m+n:\n",
    "        if i == m:\n",
    "            c.extend(b[j:])\n",
    "            k = k + (n-j)\n",
    "        elif j == n:\n",
    "            c.extend(a[i:])\n",
    "            k = k + (m-i)\n",
    "        elif a[i] < b[j]:\n",
    "            c.append(a[i])\n",
    "            i,k = i+1,k+1\n",
    "        else:\n",
    "            c.append(b[j])\n",
    "            j,k = j+1,k+1\n",
    "    return c\n",
    "\n",
    "\n",
    "def merge_sort(ls):\n",
    "    n=len(ls)\n",
    "    if n<=1:\n",
    "        return ls\n",
    "    l = merge_sort(ls[:n//2])\n",
    "    r = merge_sort(ls[n//2:])\n",
    "\n",
    "    new_ls = merge(l,r)\n",
    "    return new_ls\n",
    "\n",
    "print(merge_sort([2,7,8,3,4,10]))"
   ]
  },
  {
   "cell_type": "code",
   "execution_count": null,
   "metadata": {},
   "outputs": [],
   "source": []
  }
 ],
 "metadata": {
  "kernelspec": {
   "display_name": "Python 3",
   "language": "python",
   "name": "python3"
  },
  "language_info": {
   "codemirror_mode": {
    "name": "ipython",
    "version": 3
   },
   "file_extension": ".py",
   "mimetype": "text/x-python",
   "name": "python",
   "nbconvert_exporter": "python",
   "pygments_lexer": "ipython3",
   "version": "3.12.6"
  }
 },
 "nbformat": 4,
 "nbformat_minor": 2
}
