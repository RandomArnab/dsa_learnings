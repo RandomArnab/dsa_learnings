{
 "cells": [
  {
   "cell_type": "markdown",
   "metadata": {},
   "source": [
    "Selection Sort : \n",
    "\n",
    "The idea here is to find the smallest unsorted element and add it to the end of the sorted list.\n",
    "\n",
    "Repeat until no unsorted elements remain:\n",
    "\n",
    "Search through the unsorted part to find the smallest value.\n",
    "\n",
    "Swap the smallest found value with the first element of the unsorted part.\n",
    "\n",
    "\n",
    "Worst case complexity is O(n^2). Hence, there is no advantage even is list is arranged carefully before sorting."
   ]
  },
  {
   "cell_type": "code",
   "execution_count": 3,
   "metadata": {},
   "outputs": [
    {
     "name": "stdout",
     "output_type": "stream",
     "text": [
      "[2, 3, 4, 7, 8, 10]\n"
     ]
    }
   ],
   "source": [
    "def selection_sort(ls):\n",
    "    \n",
    "    n = len(ls)\n",
    "    if n < 1:\n",
    "        return ls\n",
    "    \n",
    "    for i in range(n):\n",
    "        mpos = i\n",
    "        for j in range(i+1,n):\n",
    "            if ls[j] < ls[mpos]:\n",
    "                mpos = j\n",
    "        ls[i], ls[mpos] = ls[mpos], ls[i]\n",
    "    return ls\n",
    "\n",
    "print(selection_sort([2,7,8,3,4,10]))"
   ]
  },
  {
   "cell_type": "markdown",
   "metadata": {},
   "source": [
    "Insertion Sort:\n",
    "\n",
    "We pick the next element and insert it into the sorted list.\n",
    "\n",
    "An iterative formulation -->> Assume L[:i] is sorted and insert L[i] in L[:i]\n",
    "\n"
   ]
  },
  {
   "cell_type": "code",
   "execution_count": 13,
   "metadata": {},
   "outputs": [
    {
     "name": "stdout",
     "output_type": "stream",
     "text": [
      "[2, 3, 4, 7, 8, 10]\n"
     ]
    }
   ],
   "source": [
    "def insertion_sort(ls):\n",
    "    \n",
    "    n = len(ls)\n",
    "    if n < 1:\n",
    "        return ls\n",
    "    \n",
    "    for i in range(n):\n",
    "        j=i\n",
    "        while j>0 and ls[j] < ls[j-1]:\n",
    "            ls[j], ls[j-1] = ls[j-1], ls[j]\n",
    "            j -= 1\n",
    "    return ls\n",
    "\n",
    "print(insertion_sort([2,7,8,3,4,10]))"
   ]
  },
  {
   "cell_type": "markdown",
   "metadata": {},
   "source": [
    "Merge Sort:\n",
    "\n",
    "Combining two sorted lists A and B into a single sorted list C.\n",
    "\n",
    "Compare first elements of A and B.\n",
    "\n",
    "Move the smaller of the two to C.\n",
    "\n",
    "Repeat till you exhaust A and B.\n",
    "\n",
    "It takes time proportional to summation of size of both lists.\n",
    "\n",
    "Cons: Extra storage may be costly and recursive calls are expensive."
   ]
  },
  {
   "cell_type": "code",
   "execution_count": 23,
   "metadata": {},
   "outputs": [
    {
     "name": "stdout",
     "output_type": "stream",
     "text": [
      "[2, 3, 4, 7, 8, 10]\n"
     ]
    }
   ],
   "source": [
    "def merge(a,b):\n",
    "    m,n = len(a), len(b)\n",
    "    c,i,j,k = [],0,0,0\n",
    "    while k < m+n:\n",
    "        if i == m:\n",
    "            c.extend(b[j:])\n",
    "            k = k + (n-j)\n",
    "        elif j == n:\n",
    "            c.extend(a[i:])\n",
    "            k = k + (m-i)\n",
    "        elif a[i] < b[j]:\n",
    "            c.append(a[i])\n",
    "            i,k = i+1,k+1\n",
    "        else:\n",
    "            c.append(b[j])\n",
    "            j,k = j+1,k+1\n",
    "    return c\n",
    "\n",
    "\n",
    "def merge_sort(ls):\n",
    "    n=len(ls)\n",
    "    if n<=1:\n",
    "        return ls\n",
    "    l = merge_sort(ls[:n//2])\n",
    "    r = merge_sort(ls[n//2:])\n",
    "\n",
    "    new_ls = merge(l,r)\n",
    "    return new_ls\n",
    "\n",
    "print(merge_sort([2,7,8,3,4,10]))"
   ]
  },
  {
   "cell_type": "markdown",
   "metadata": {},
   "source": [
    "Quick Sort:\n",
    "\n",
    "The idea behind the Quicksort algorithm is to efficiently sort an array or list of elements by repeatedly partitioning it into smaller sub-arrays and sorting those sub-arrays. It employs a divide-and-conquer strategy and relies on the selection of a \"pivot\" element to partition the data.\n",
    "\n",
    "\n",
    "The Quicksort algorithm efficiently sorts an array by selecting a pivot, partitioning the array based on the pivot, recursively sorting the resulting sub-arrays, and then combining them back together. Its divide-and-conquer nature and clever pivot selection make it a popular choice for sorting large datasets.\n",
    "\n",
    "\n"
   ]
  },
  {
   "cell_type": "code",
   "execution_count": 2,
   "metadata": {},
   "outputs": [],
   "source": [
    "def quick_sort(ls,l,r):\n",
    "    if r-l <= 1:\n",
    "        return ls\n",
    "    pivot, lower, upper = ls[l], l+1,l+1\n",
    "    for i in range(l+1,r):\n",
    "        if ls[i] > pivot:\n",
    "            upper = upper + 1\n",
    "        else:\n",
    "            ls[i], ls[lower] = ls[lower], ls[i]\n",
    "            lower,upper = upper,lower\n",
    "    lower=lower-1\n",
    "    quick_sort(ls,1,lower)\n",
    "    quick_sort(ls,lower+1,upper)\n",
    "    return ls"
   ]
  },
  {
   "cell_type": "code",
   "execution_count": 3,
   "metadata": {},
   "outputs": [
    {
     "name": "stdout",
     "output_type": "stream",
     "text": [
      "[2, 3, 4, 7, 8, 10]\n"
     ]
    }
   ],
   "source": [
    "def quick_sort(arr):\n",
    "\tif len(arr)<=1:\n",
    "\t\treturn arr\n",
    "\tpivot=arr[-1]\n",
    "\tleft=[x for x in arr[:-1] if x<=pivot]\n",
    "\tright=[x for x in arr[:-1] if x>pivot]\n",
    "\treturn quick_sort(left) + [pivot] + quick_sort(right)\n",
    "\n",
    "print(quick_sort([2,7,8,3,4,10]))"
   ]
  },
  {
   "cell_type": "code",
   "execution_count": null,
   "metadata": {},
   "outputs": [],
   "source": []
  }
 ],
 "metadata": {
  "kernelspec": {
   "display_name": "Python 3",
   "language": "python",
   "name": "python3"
  },
  "language_info": {
   "codemirror_mode": {
    "name": "ipython",
    "version": 3
   },
   "file_extension": ".py",
   "mimetype": "text/x-python",
   "name": "python",
   "nbconvert_exporter": "python",
   "pygments_lexer": "ipython3",
   "version": "3.12.6"
  }
 },
 "nbformat": 4,
 "nbformat_minor": 2
}
