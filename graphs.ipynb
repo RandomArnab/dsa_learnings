{
 "cells": [
  {
   "cell_type": "markdown",
   "metadata": {},
   "source": [
    "GRAPH, G = (V , E)\n",
    "\n",
    "V is a set of vertices or nodes. E is a set of edges. E proper subset of V.\n",
    "\n",
    "A path is a sequence of vertices v1,v2,...vk connected by edges.\n",
    "\n",
    "Reachability : A vertex v is reachable from vertex u if there is a path from u to v."
   ]
  },
  {
   "cell_type": "markdown",
   "metadata": {},
   "source": [
    "Representation:\n",
    "\n",
    "Adjacency matrix : Rows and columns numbred {0,1,2,...,n-1}\n",
    "\n",
    "A[i,j] = 1 if there exists and edge between vertices (i,j)."
   ]
  },
  {
   "cell_type": "code",
   "execution_count": 3,
   "metadata": {},
   "outputs": [
    {
     "name": "stdout",
     "output_type": "stream",
     "text": [
      "[[0. 1. 0. 0. 1. 0. 0. 0. 0. 0.]\n",
      " [0. 0. 0. 0. 0. 0. 0. 0. 0. 0.]\n",
      " [0. 0. 0. 0. 0. 0. 0. 0. 0. 0.]\n",
      " [0. 0. 0. 0. 1. 0. 0. 0. 0. 0.]\n",
      " [0. 0. 0. 0. 0. 0. 0. 0. 0. 0.]\n",
      " [0. 0. 0. 0. 0. 0. 0. 0. 0. 0.]\n",
      " [0. 0. 0. 0. 0. 0. 0. 0. 0. 0.]\n",
      " [0. 0. 1. 0. 0. 0. 0. 0. 0. 0.]\n",
      " [0. 0. 0. 0. 0. 1. 0. 0. 0. 0.]\n",
      " [0. 0. 0. 0. 0. 0. 0. 0. 0. 0.]]\n"
     ]
    }
   ],
   "source": [
    "# For example,\n",
    "\n",
    "import numpy as np\n",
    "\n",
    "edges = [(0,1), (0,4), (3,4), (7,2), (8,5)]\n",
    "A = np.zeros(shape = (10,10))\n",
    "\n",
    "for (i,j) in edges:\n",
    "    A[i,j] = 1\n",
    "\n",
    "print(A)"
   ]
  },
  {
   "cell_type": "markdown",
   "metadata": {},
   "source": [
    "If it's an undirected graph then, A[i,j] = A[j,i] = 1. [Symmetric across main diagonal]"
   ]
  },
  {
   "cell_type": "code",
   "execution_count": 5,
   "metadata": {},
   "outputs": [
    {
     "name": "stdout",
     "output_type": "stream",
     "text": [
      "[[0. 1. 0. 0. 1. 0. 0. 0. 0. 0.]\n",
      " [1. 0. 0. 0. 0. 0. 0. 0. 0. 0.]\n",
      " [0. 0. 0. 0. 0. 0. 0. 1. 0. 0.]\n",
      " [0. 0. 0. 0. 1. 0. 0. 0. 0. 0.]\n",
      " [1. 0. 0. 1. 0. 0. 0. 0. 0. 0.]\n",
      " [0. 0. 0. 0. 0. 0. 0. 0. 1. 0.]\n",
      " [0. 0. 0. 0. 0. 0. 0. 0. 0. 0.]\n",
      " [0. 0. 1. 0. 0. 0. 0. 0. 0. 0.]\n",
      " [0. 0. 0. 0. 0. 1. 0. 0. 0. 0.]\n",
      " [0. 0. 0. 0. 0. 0. 0. 0. 0. 0.]]\n"
     ]
    }
   ],
   "source": [
    "edges = [(0,1), (0,4), (3,4), (7,2), (8,5)]\n",
    "A = np.zeros(shape = (10,10))\n",
    "\n",
    "for (i,j) in edges:\n",
    "    A[i,j] = 1\n",
    "    A[j,i] = 1\n",
    "\n",
    "print(A)"
   ]
  },
  {
   "cell_type": "code",
   "execution_count": 6,
   "metadata": {},
   "outputs": [
    {
     "name": "stdout",
     "output_type": "stream",
     "text": [
      "[8]\n"
     ]
    }
   ],
   "source": [
    " # Identifying neighbors of a row.\n",
    "\n",
    "def neighbors(AMat,i):\n",
    "    nbrs = []\n",
    "    (row,cols) = AMat.shape\n",
    "    for j in range(cols):\n",
    "        if AMat[i,j] == 1:\n",
    "            nbrs.append(j)\n",
    "    return nbrs\n",
    "\n",
    "print(neighbors(A,5))"
   ]
  },
  {
   "cell_type": "markdown",
   "metadata": {},
   "source": [
    "In case of a directed graph, the rows represent outgoing edges and the columns represent incoming edges.\n",
    "\n",
    "For example, A[3,5] == 1 signifies an edge from 3 to 5.\n",
    "\n",
    "Degree of a vertex i = Number of edges incident on i."
   ]
  },
  {
   "cell_type": "markdown",
   "metadata": {},
   "source": [
    "In order to check reachability, first we mark the source vertex ie. our starting point as reachable. Systematically mark neighbors of marked vertices. We stop when target becomes marked.\n",
    "\n",
    "For this, we need a strategy to systematically explore marked neighbors."
   ]
  },
  {
   "cell_type": "markdown",
   "metadata": {},
   "source": [
    "Better representation for the adjacency matrix is the list of neighbors for each vertex, since the adjacency matrix is quite sparse and typically takes more space than the said list."
   ]
  },
  {
   "cell_type": "code",
   "execution_count": 11,
   "metadata": {},
   "outputs": [
    {
     "name": "stdout",
     "output_type": "stream",
     "text": [
      "{0: [1, 4], 1: [], 2: [], 3: [4], 4: [], 5: [], 6: [], 7: [6, 2], 8: [5], 9: []}\n"
     ]
    }
   ],
   "source": [
    "# Example of an adjacency list.\n",
    "\n",
    "edges = [(0,1), (7,6),(0,4), (3,4), (7,2), (8,5)]\n",
    "adj_list = {}\n",
    "\n",
    "for i in range(10):\n",
    "    adj_list[i] = []\n",
    "for (i,j) in edges:\n",
    "    adj_list[i].append(j)\n",
    "\n",
    "print(adj_list)"
   ]
  },
  {
   "cell_type": "markdown",
   "metadata": {},
   "source": [
    "BREADTH FIRST SEARCH (BFS)"
   ]
  },
  {
   "cell_type": "markdown",
   "metadata": {},
   "source": [
    "Explore the graph level by level -->> First vist vertices that are one step away, then the ones that are two step away and so on.\n",
    "\n",
    "Each visited vertex has to be explored -->> extend the search to its neighbors (only once for each vertex).\n",
    "\n",
    "Maintaining information about vertices -->> Like, which vertices have been visited already, and among these visited ones which among them are yet to be explored."
   ]
  },
  {
   "cell_type": "markdown",
   "metadata": {},
   "source": [
    "V = {0,1,...,n-1}\n",
    "\n",
    "visited (dictionary) -->> True if visited else False. Initally, visited(v) = False.\n",
    "\n",
    "maintaining a sequence of visited vertices yet to be explored -->> use a queue ( first in first out ).\n",
    "\n",
    "exploring a vertex i -->> For each edge (i,j), if visited(j) is False, then set visited(j) as True and append j to the queue."
   ]
  },
  {
   "cell_type": "markdown",
   "metadata": {},
   "source": [
    "Dry Run ::\n",
    "\n",
    "Initially, visited(v) == False for all vertices. Queue of vertices to be explored is empty as well.\n",
    "\n",
    "Start BFS from vertex j. -->> Set visited[j] as True and add j to the queue.\n",
    "\n",
    "Remove and explore vertex i at head of the queue. -->> For each edge (i,j), if visited(j) if False,\n",
    "set visited(j) to True and append j to the queue.\n",
    "\n",
    "So, for vertex j we will check it's corresponding connected vertices. We will choose one of its corresposnidng vertices and then remove from the queue and so on. "
   ]
  },
  {
   "cell_type": "code",
   "execution_count": 14,
   "metadata": {},
   "outputs": [],
   "source": [
    "class Queue:\n",
    "    def __init__(self):\n",
    "        self.queue = []\n",
    "    def addq(self,v):\n",
    "        self.queue.append(v)\n",
    "    def delq(self):\n",
    "        v=None\n",
    "        if not self.isempty():\n",
    "            v=self.queue[0]\n",
    "            self.queue = self.queue[1:]\n",
    "        return v\n",
    "    def isempty(self):\n",
    "        return (self.queue==[])\n",
    "    def __str__(self):\n",
    "        return str(self.queue)"
   ]
  },
  {
   "cell_type": "code",
   "execution_count": 16,
   "metadata": {},
   "outputs": [],
   "source": [
    "def BFS(AMat,v):\n",
    "    (rows,cols) = AMat.shape\n",
    "    visited = {}\n",
    "    for i in range(rows):\n",
    "        visited[i]=False\n",
    "    q=Queue()\n",
    "\n",
    "    visited[v]=True\n",
    "    q.addq(v)\n",
    "\n",
    "    while (not q.isempty()):\n",
    "        j = q.delq()\n",
    "        for k in neighbors(AMat, j):\n",
    "            if not visited[k]:\n",
    "                visited[k] = True\n",
    "                q.addq(k)\n",
    "\n",
    "    return visited"
   ]
  },
  {
   "cell_type": "markdown",
   "metadata": {},
   "source": [
    "Complexity of BFS:\n",
    "\n",
    "Let G, a connected graph have n vertices and m edges. m can vary from (n-1) to n(n-1)/2 edges. \n",
    "\n",
    "In BFS, each reachable vertex is processed exactly once. \n",
    "\n",
    "Exploring a particular vertex includes scanning all its neighbors.\n",
    "\n",
    "Using an adjacency matrix takes O(n2) since it takes n steps to initialize each vertex and n steps to explore each vertex. Using an adjacency list however, takes same n steps to intialize each vertex but 2m(degrees of freedom) steps to explore all vertices. Overall time reducing to O(m+n).\n",
    "\n"
   ]
  },
  {
   "cell_type": "markdown",
   "metadata": {},
   "source": [
    "Enhancing BFS to record paths:"
   ]
  },
  {
   "cell_type": "code",
   "execution_count": 17,
   "metadata": {},
   "outputs": [],
   "source": [
    "def BFS_lispath(Alist,v):\n",
    "    visited,parent = {},{}\n",
    "    for i in Alist.keys():\n",
    "        visited[i]=False\n",
    "        parent[i]=-1\n",
    "    q=Queue()\n",
    "\n",
    "    visited[v]=True\n",
    "    q.addq(v)\n",
    "\n",
    "    while not q.isempty():\n",
    "        j=q.delq()\n",
    "        for k in Alist[j]:\n",
    "            if not visited[k]:\n",
    "                visited[k]=True\n",
    "                parent[k]=j\n",
    "                q.addq(k)\n",
    "    \n",
    "    return visited,parent"
   ]
  },
  {
   "cell_type": "markdown",
   "metadata": {},
   "source": [
    "Enhancing BFS to record paths:"
   ]
  },
  {
   "cell_type": "code",
   "execution_count": 18,
   "metadata": {},
   "outputs": [],
   "source": [
    "def BFS_listdist(Alist,v):\n",
    "    level,parent = {},{}\n",
    "    for i in Alist.keys():\n",
    "        level[i]=-1\n",
    "        parent[i]-1\n",
    "    q=Queue()\n",
    "\n",
    "    level[v]=0\n",
    "    q.addq(v)\n",
    "\n",
    "    while not q.isempty():\n",
    "        j=q.delq()\n",
    "        for k in Alist[j]:\n",
    "            if level[k] == -1:\n",
    "                level[k] = level[j] + 1\n",
    "                parent[k] = j\n",
    "                q.addq(k)\n",
    "    return level,parent"
   ]
  },
  {
   "cell_type": "markdown",
   "metadata": {},
   "source": [
    "DEPTH FIRST SEARCH:"
   ]
  },
  {
   "cell_type": "markdown",
   "metadata": {},
   "source": [
    "Start from vertex i, visit an unexplored neighbour j. \n",
    "\n",
    "Suspend the exploration of i and explore j instead.\n",
    "\n",
    "Continue till you reach a vertex with no unexplored neighbours.\n",
    "\n",
    "Backtrack to nearest suspended vertex that still has an unexplores neighbour.\n",
    "\n",
    "Suspended vertices are stored in a stack (first in last out) (Most recently suspended is checked first)."
   ]
  },
  {
   "cell_type": "code",
   "execution_count": null,
   "metadata": {},
   "outputs": [],
   "source": []
  }
 ],
 "metadata": {
  "kernelspec": {
   "display_name": "Python 3",
   "language": "python",
   "name": "python3"
  },
  "language_info": {
   "codemirror_mode": {
    "name": "ipython",
    "version": 3
   },
   "file_extension": ".py",
   "mimetype": "text/x-python",
   "name": "python",
   "nbconvert_exporter": "python",
   "pygments_lexer": "ipython3",
   "version": "3.12.6"
  }
 },
 "nbformat": 4,
 "nbformat_minor": 2
}
